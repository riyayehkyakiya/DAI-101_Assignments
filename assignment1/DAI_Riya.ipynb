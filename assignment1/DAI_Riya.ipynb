{
 "cells": [
  {
   "cell_type": "code",
   "execution_count": 1,
   "id": "a1d293e6-1ef5-4b66-96ec-321a3cec4498",
   "metadata": {},
   "outputs": [],
   "source": [
    "import pandas as pd\n",
    "import numpy as np\n",
    "import matplotlib.pyplot as plt\n",
    "import sklearn\n",
    "from sklearn.model_selection import GridSearchCV\n",
    "import os\n",
    "import seaborn as sns\n",
    "from scipy import stats"
   ]
  },
  {
   "cell_type": "code",
   "execution_count": 2,
   "id": "a5ec8fc3-2235-49f9-b838-aa1042c21af7",
   "metadata": {},
   "outputs": [],
   "source": [
    "df=pd.read_csv(\"spotify_data.csv\")"
   ]
  },
  {
   "cell_type": "code",
   "execution_count": 3,
   "id": "d2cd377c-a600-4782-9f81-cc44d28a0b37",
   "metadata": {},
   "outputs": [
    {
     "data": {
      "text/html": [
       "<div>\n",
       "<style scoped>\n",
       "    .dataframe tbody tr th:only-of-type {\n",
       "        vertical-align: middle;\n",
       "    }\n",
       "\n",
       "    .dataframe tbody tr th {\n",
       "        vertical-align: top;\n",
       "    }\n",
       "\n",
       "    .dataframe thead th {\n",
       "        text-align: right;\n",
       "    }\n",
       "</style>\n",
       "<table border=\"1\" class=\"dataframe\">\n",
       "  <thead>\n",
       "    <tr style=\"text-align: right;\">\n",
       "      <th></th>\n",
       "      <th>Songs &amp; Artist</th>\n",
       "      <th>Streams</th>\n",
       "      <th>Daily</th>\n",
       "    </tr>\n",
       "  </thead>\n",
       "  <tbody>\n",
       "    <tr>\n",
       "      <th>0</th>\n",
       "      <td>The Weeknd - Blinding Lights</td>\n",
       "      <td>4463658617</td>\n",
       "      <td>1619447.0</td>\n",
       "    </tr>\n",
       "    <tr>\n",
       "      <th>1</th>\n",
       "      <td>Ed Sheeran - Shape of You</td>\n",
       "      <td>4018102402</td>\n",
       "      <td>1001507.0</td>\n",
       "    </tr>\n",
       "    <tr>\n",
       "      <th>2</th>\n",
       "      <td>Lewis Capaldi - Someone You Loved</td>\n",
       "      <td>3588673578</td>\n",
       "      <td>1506961.0</td>\n",
       "    </tr>\n",
       "    <tr>\n",
       "      <th>3</th>\n",
       "      <td>Harry Styles - As It Was</td>\n",
       "      <td>3544187311</td>\n",
       "      <td>1611374.0</td>\n",
       "    </tr>\n",
       "    <tr>\n",
       "      <th>4</th>\n",
       "      <td>Post Malone - Sunflower</td>\n",
       "      <td>3518744128</td>\n",
       "      <td>1337404.0</td>\n",
       "    </tr>\n",
       "  </tbody>\n",
       "</table>\n",
       "</div>"
      ],
      "text/plain": [
       "                      Songs & Artist     Streams      Daily\n",
       "0       The Weeknd - Blinding Lights  4463658617  1619447.0\n",
       "1          Ed Sheeran - Shape of You  4018102402  1001507.0\n",
       "2  Lewis Capaldi - Someone You Loved  3588673578  1506961.0\n",
       "3           Harry Styles - As It Was  3544187311  1611374.0\n",
       "4            Post Malone - Sunflower  3518744128  1337404.0"
      ]
     },
     "execution_count": 3,
     "metadata": {},
     "output_type": "execute_result"
    }
   ],
   "source": [
    "df.head()"
   ]
  },
  {
   "cell_type": "code",
   "execution_count": 4,
   "id": "32f69e65-554c-4b98-a691-2b4a4c815484",
   "metadata": {},
   "outputs": [
    {
     "data": {
      "text/html": [
       "<div>\n",
       "<style scoped>\n",
       "    .dataframe tbody tr th:only-of-type {\n",
       "        vertical-align: middle;\n",
       "    }\n",
       "\n",
       "    .dataframe tbody tr th {\n",
       "        vertical-align: top;\n",
       "    }\n",
       "\n",
       "    .dataframe thead th {\n",
       "        text-align: right;\n",
       "    }\n",
       "</style>\n",
       "<table border=\"1\" class=\"dataframe\">\n",
       "  <thead>\n",
       "    <tr style=\"text-align: right;\">\n",
       "      <th></th>\n",
       "      <th>Songs &amp; Artist</th>\n",
       "      <th>Streams</th>\n",
       "      <th>Daily</th>\n",
       "    </tr>\n",
       "  </thead>\n",
       "  <tbody>\n",
       "    <tr>\n",
       "      <th>0</th>\n",
       "      <td>The Weeknd - Blinding Lights</td>\n",
       "      <td>4463658617</td>\n",
       "      <td>1619447.0</td>\n",
       "    </tr>\n",
       "    <tr>\n",
       "      <th>1</th>\n",
       "      <td>Ed Sheeran - Shape of You</td>\n",
       "      <td>4018102402</td>\n",
       "      <td>1001507.0</td>\n",
       "    </tr>\n",
       "    <tr>\n",
       "      <th>2</th>\n",
       "      <td>Lewis Capaldi - Someone You Loved</td>\n",
       "      <td>3588673578</td>\n",
       "      <td>1506961.0</td>\n",
       "    </tr>\n",
       "    <tr>\n",
       "      <th>3</th>\n",
       "      <td>Harry Styles - As It Was</td>\n",
       "      <td>3544187311</td>\n",
       "      <td>1611374.0</td>\n",
       "    </tr>\n",
       "    <tr>\n",
       "      <th>4</th>\n",
       "      <td>Post Malone - Sunflower</td>\n",
       "      <td>3518744128</td>\n",
       "      <td>1337404.0</td>\n",
       "    </tr>\n",
       "    <tr>\n",
       "      <th>...</th>\n",
       "      <td>...</td>\n",
       "      <td>...</td>\n",
       "      <td>...</td>\n",
       "    </tr>\n",
       "    <tr>\n",
       "      <th>2495</th>\n",
       "      <td>Myke Towers - LA FALDA</td>\n",
       "      <td>505592800</td>\n",
       "      <td>1278450.0</td>\n",
       "    </tr>\n",
       "    <tr>\n",
       "      <th>2496</th>\n",
       "      <td>Social House - Magic In The Hamptons</td>\n",
       "      <td>505511969</td>\n",
       "      <td>118483.0</td>\n",
       "    </tr>\n",
       "    <tr>\n",
       "      <th>2497</th>\n",
       "      <td>KISS - Rock And Roll All Nite</td>\n",
       "      <td>505386377</td>\n",
       "      <td>205701.0</td>\n",
       "    </tr>\n",
       "    <tr>\n",
       "      <th>2498</th>\n",
       "      <td>Mora - 512</td>\n",
       "      <td>505309100</td>\n",
       "      <td>280336.0</td>\n",
       "    </tr>\n",
       "    <tr>\n",
       "      <th>2499</th>\n",
       "      <td>Meghan Trainor - Me Too</td>\n",
       "      <td>505249124</td>\n",
       "      <td>288515.0</td>\n",
       "    </tr>\n",
       "  </tbody>\n",
       "</table>\n",
       "<p>2500 rows × 3 columns</p>\n",
       "</div>"
      ],
      "text/plain": [
       "                            Songs & Artist     Streams      Daily\n",
       "0             The Weeknd - Blinding Lights  4463658617  1619447.0\n",
       "1                Ed Sheeran - Shape of You  4018102402  1001507.0\n",
       "2        Lewis Capaldi - Someone You Loved  3588673578  1506961.0\n",
       "3                 Harry Styles - As It Was  3544187311  1611374.0\n",
       "4                  Post Malone - Sunflower  3518744128  1337404.0\n",
       "...                                    ...         ...        ...\n",
       "2495                Myke Towers - LA FALDA   505592800  1278450.0\n",
       "2496  Social House - Magic In The Hamptons   505511969   118483.0\n",
       "2497         KISS - Rock And Roll All Nite   505386377   205701.0\n",
       "2498                            Mora - 512   505309100   280336.0\n",
       "2499               Meghan Trainor - Me Too   505249124   288515.0\n",
       "\n",
       "[2500 rows x 3 columns]"
      ]
     },
     "execution_count": 4,
     "metadata": {},
     "output_type": "execute_result"
    }
   ],
   "source": [
    "df"
   ]
  },
  {
   "cell_type": "code",
   "execution_count": 5,
   "id": "7f02d4ac-c579-4dd6-b58b-29bfeb667f05",
   "metadata": {},
   "outputs": [
    {
     "data": {
      "text/plain": [
       "Songs & Artist    0\n",
       "Streams           0\n",
       "Daily             2\n",
       "dtype: int64"
      ]
     },
     "execution_count": 5,
     "metadata": {},
     "output_type": "execute_result"
    }
   ],
   "source": [
    "df.isnull().sum()"
   ]
  },
  {
   "cell_type": "code",
   "execution_count": 6,
   "id": "211f86ff-690a-4380-ba4a-cf06f136cd26",
   "metadata": {},
   "outputs": [],
   "source": [
    "df.dropna(inplace=True)"
   ]
  },
  {
   "cell_type": "code",
   "execution_count": 7,
   "id": "b8b4cfa2-d5d6-41e6-87b2-0f787e825a37",
   "metadata": {},
   "outputs": [],
   "source": [
    "df['Artist']=df['Songs & Artist'].apply(lambda s:s.split(\"-\")[0])\n",
    "df['Song']=df['Songs & Artist'].apply(lambda s:s.split(\"-\")[1])\n",
    "df.drop(columns=['Songs & Artist'],inplace=True)"
   ]
  },
  {
   "cell_type": "code",
   "execution_count": 8,
   "id": "c84384e3-923c-4de2-b951-51b90ec1718f",
   "metadata": {},
   "outputs": [],
   "source": [
    "df=df[['Song','Artist','Streams','Daily']]"
   ]
  },
  {
   "cell_type": "code",
   "execution_count": 9,
   "id": "5181f22f-55fb-438b-9651-861d862485d4",
   "metadata": {},
   "outputs": [
    {
     "data": {
      "text/html": [
       "<div>\n",
       "<style scoped>\n",
       "    .dataframe tbody tr th:only-of-type {\n",
       "        vertical-align: middle;\n",
       "    }\n",
       "\n",
       "    .dataframe tbody tr th {\n",
       "        vertical-align: top;\n",
       "    }\n",
       "\n",
       "    .dataframe thead th {\n",
       "        text-align: right;\n",
       "    }\n",
       "</style>\n",
       "<table border=\"1\" class=\"dataframe\">\n",
       "  <thead>\n",
       "    <tr style=\"text-align: right;\">\n",
       "      <th></th>\n",
       "      <th>Song</th>\n",
       "      <th>Artist</th>\n",
       "      <th>Streams</th>\n",
       "      <th>Daily</th>\n",
       "    </tr>\n",
       "  </thead>\n",
       "  <tbody>\n",
       "    <tr>\n",
       "      <th>0</th>\n",
       "      <td>Blinding Lights</td>\n",
       "      <td>The Weeknd</td>\n",
       "      <td>4463658617</td>\n",
       "      <td>1619447.0</td>\n",
       "    </tr>\n",
       "    <tr>\n",
       "      <th>1</th>\n",
       "      <td>Shape of You</td>\n",
       "      <td>Ed Sheeran</td>\n",
       "      <td>4018102402</td>\n",
       "      <td>1001507.0</td>\n",
       "    </tr>\n",
       "    <tr>\n",
       "      <th>2</th>\n",
       "      <td>Someone You Loved</td>\n",
       "      <td>Lewis Capaldi</td>\n",
       "      <td>3588673578</td>\n",
       "      <td>1506961.0</td>\n",
       "    </tr>\n",
       "    <tr>\n",
       "      <th>3</th>\n",
       "      <td>As It Was</td>\n",
       "      <td>Harry Styles</td>\n",
       "      <td>3544187311</td>\n",
       "      <td>1611374.0</td>\n",
       "    </tr>\n",
       "    <tr>\n",
       "      <th>4</th>\n",
       "      <td>Sunflower</td>\n",
       "      <td>Post Malone</td>\n",
       "      <td>3518744128</td>\n",
       "      <td>1337404.0</td>\n",
       "    </tr>\n",
       "  </tbody>\n",
       "</table>\n",
       "</div>"
      ],
      "text/plain": [
       "                 Song          Artist     Streams      Daily\n",
       "0     Blinding Lights     The Weeknd   4463658617  1619447.0\n",
       "1        Shape of You     Ed Sheeran   4018102402  1001507.0\n",
       "2   Someone You Loved  Lewis Capaldi   3588673578  1506961.0\n",
       "3           As It Was   Harry Styles   3544187311  1611374.0\n",
       "4           Sunflower    Post Malone   3518744128  1337404.0"
      ]
     },
     "execution_count": 9,
     "metadata": {},
     "output_type": "execute_result"
    }
   ],
   "source": [
    "df.head()"
   ]
  },
  {
   "cell_type": "code",
   "execution_count": 10,
   "id": "2e00f725-a18a-46af-b5aa-c039e168d2be",
   "metadata": {},
   "outputs": [],
   "source": [
    "df2=df.groupby(\"Artist\").agg({\"Streams\":\"mean\"}).reset_index().sort_values(by=\"Streams\",ascending=False)"
   ]
  },
  {
   "cell_type": "code",
   "execution_count": 11,
   "id": "fcf1e98a-57c2-419b-9c2a-eda01b28ff98",
   "metadata": {},
   "outputs": [
    {
     "data": {
      "text/plain": [
       "<Axes: title={'center': 'TOP 10 ARTISTS BASED ON STREAMING COUNTS'}, xlabel='Artist', ylabel='Streams'>"
      ]
     },
     "execution_count": 11,
     "metadata": {},
     "output_type": "execute_result"
    },
    {
     "data": {
      "image/png": "[encoded data removed]",
      "text/plain": [
       "<Figure size 1500x500 with 1 Axes>"
      ]
     },
     "metadata": {},
     "output_type": "display_data"
    }
   ],
   "source": [
    "df2=df.groupby(\"Artist\").agg({\"Streams\":\"mean\"}).reset_index().sort_values(by=\"Streams\",ascending=False)\n",
    "plt.figure(figsize=(15,5))\n",
    "plt.title(\"TOP 10 ARTISTS BASED ON STREAMING COUNTS\")\n",
    "sns.barplot(x='Artist',y='Streams',data=df2.head(10))"
   ]
  },
  {
   "cell_type": "code",
   "execution_count": 12,
   "id": "472da58a-9222-4a44-aacf-2596f4695e75",
   "metadata": {},
   "outputs": [
    {
     "data": {
      "text/plain": [
       "<Axes: title={'center': 'TOP 10 ARTISTS BASED ON DAILY COUNTS'}, xlabel='Artist', ylabel='Daily'>"
      ]
     },
     "execution_count": 12,
     "metadata": {},
     "output_type": "execute_result"
    },
    {
     "data": {
      "image/png": "[encoded data removed]",
      "text/plain": [
       "<Figure size 1500x500 with 1 Axes>"
      ]
     },
     "metadata": {},
     "output_type": "display_data"
    }
   ],
   "source": [
    "df2=df.groupby(\"Artist\").agg({\"Daily\":\"mean\"}).reset_index().sort_values(by=\"Daily\",ascending=False)\n",
    "plt.figure(figsize=(15,5))\n",
    "plt.title(\"TOP 10 ARTISTS BASED ON DAILY COUNTS\")\n",
    "sns.barplot(x='Artist',y='Daily',data=df2.head(10))"
   ]
  },
  {
   "cell_type": "code",
   "execution_count": 13,
   "id": "ce02af05-be36-4f1f-a6bb-19831a5b9962",
   "metadata": {},
   "outputs": [
    {
     "data": {
      "text/html": [
       "<div>\n",
       "<style scoped>\n",
       "    .dataframe tbody tr th:only-of-type {\n",
       "        vertical-align: middle;\n",
       "    }\n",
       "\n",
       "    .dataframe tbody tr th {\n",
       "        vertical-align: top;\n",
       "    }\n",
       "\n",
       "    .dataframe thead th {\n",
       "        text-align: right;\n",
       "    }\n",
       "</style>\n",
       "<table border=\"1\" class=\"dataframe\">\n",
       "  <thead>\n",
       "    <tr style=\"text-align: right;\">\n",
       "      <th></th>\n",
       "      <th>Daily</th>\n",
       "      <th>Streams</th>\n",
       "    </tr>\n",
       "  </thead>\n",
       "  <tbody>\n",
       "    <tr>\n",
       "      <th>Daily</th>\n",
       "      <td>1.000000</td>\n",
       "      <td>0.443207</td>\n",
       "    </tr>\n",
       "    <tr>\n",
       "      <th>Streams</th>\n",
       "      <td>0.443207</td>\n",
       "      <td>1.000000</td>\n",
       "    </tr>\n",
       "  </tbody>\n",
       "</table>\n",
       "</div>"
      ],
      "text/plain": [
       "            Daily   Streams\n",
       "Daily    1.000000  0.443207\n",
       "Streams  0.443207  1.000000"
      ]
     },
     "execution_count": 13,
     "metadata": {},
     "output_type": "execute_result"
    }
   ],
   "source": [
    "df[['Daily','Streams']].corr()"
   ]
  },
  {
   "cell_type": "code",
   "execution_count": 14,
   "id": "e029729f-be7b-49f7-9770-cde2ba0c6bfa",
   "metadata": {},
   "outputs": [
    {
     "data": {
      "text/plain": [
       "<Axes: xlabel='Streams', ylabel='Daily'>"
      ]
     },
     "execution_count": 14,
     "metadata": {},
     "output_type": "execute_result"
    },
    {
     "data": {
      "image/png": "[encoded data removed]",
      "text/plain": [
       "<Figure size 640x480 with 1 Axes>"
      ]
     },
     "metadata": {},
     "output_type": "display_data"
    }
   ],
   "source": [
    "sns.scatterplot(x='Streams',y='Daily',data=df.groupby(\"Artist\").agg({'Streams':'mean','Daily':'mean'}).reset_index(),markers=True)"
   ]
  },
  {
   "cell_type": "code",
   "execution_count": null,
   "id": "074a73fd-03e8-4a9e-af22-7b88bafd747a",
   "metadata": {},
   "outputs": [],
   "source": [
    "import matplotlib.pyplot as plt\n",
    "import seaborn as sns\n",
    "\n",
    "# Bar chart for top 10 most streamed songs\n",
    "plt.figure(figsize=(10, 6))\n",
    "sns.barplot(x='Streams', y='Song', data=df, hue='Artist', dodge=False)\n",
    "\n",
    "plt.title('Top 10 Most Streamed Songs Globally (in Millions)')\n",
    "plt.xlabel('Total Streams (in millions)')\n",
    "plt.ylabel('Song')\n",
    "plt.legend(title='Artist', bbox_to_anchor=(1.05, 1), loc='upper left')\n",
    "plt.tight_layout()\n",
    "plt.show()"
   ]
  },
  {
   "cell_type": "code",
   "execution_count": null,
   "id": "d6fd4442-b637-4ae1-86ff-f77c53a29d95",
   "metadata": {},
   "outputs": [],
   "source": [
    "# Scatter plot to visualize the relationship between total streams and daily streams\n",
    "plt.figure(figsize=(8, 5))\n",
    "sns.scatterplot(x='Streams', y='Daily', data=df, hue='Artist')\n",
    "\n",
    "plt.title('Daily Streams vs Total Streams (in Millions)')\n",
    "plt.xlabel('Total Streams (in millions)')\n",
    "plt.ylabel('Daily Streams (in millions)')\n",
    "plt.show()"
   ]
  },
  {
   "cell_type": "code",
   "execution_count": null,
   "id": "7999580e-2f6f-421b-be74-38f41cf7506b",
   "metadata": {},
   "outputs": [],
   "source": [
    "# Plot a histogram to visualize the distribution of total streams\n",
    "plt.figure(figsize=(8, 5))\n",
    "sns.histplot(df['Streams'], bins=20, kde=True)\n",
    "\n",
    "plt.title('Distribution of Total Streams (in Millions)')\n",
    "plt.xlabel('Total Streams (in millions)')\n",
    "plt.ylabel('Frequency')\n",
    "plt.show()"
   ]
  },
  {
   "cell_type": "code",
   "execution_count": null,
   "id": "d8347598-17fd-40d2-8ca8-585275c46dc8",
   "metadata": {},
   "outputs": [],
   "source": [
    "streams_mean = df['Streams'].mean()\n",
    "streams_median = df['Streams'].median()\n",
    "streams_mode = df['Streams'].mode()[0]  # Mode can return multiple values, so we take the first\n",
    "\n",
    "# Mean, Median, and Mode for 'Daily' column\n",
    "daily_mean = df['Daily'].mean()\n",
    "daily_median = df['Daily'].median()\n",
    "daily_mode = df['Daily'].mode()[0]  # Mode can return multiple values, so we take the first\n",
    "\n",
    "# Display the results\n",
    "print(f\"Streams - Mean: {streams_mean:.2f} million, Median: {streams_median:.2f} million, Mode: {streams_mode:.2f} million\")\n",
    "print(f\"Daily Streams - Mean: {daily_mean:.2f} million, Median: {daily_median:.2f} million, Mode: {daily_mode:.2f} million\")"
   ]
  },
  {
   "cell_type": "code",
   "execution_count": null,
   "id": "54c7021d-1b25-4ebf-9547-3827c1df99c7",
   "metadata": {},
   "outputs": [],
   "source": []
  }
 ],
 "metadata": {
  "kernelspec": {
   "display_name": "Python 3 (ipykernel)",
   "language": "python",
   "name": "python3"
  },
  "language_info": {
   "codemirror_mode": {
    "name": "ipython",
    "version": 3
   },
   "file_extension": ".py",
   "mimetype": "text/x-python",
   "name": "python",
   "nbconvert_exporter": "python",
   "pygments_lexer": "ipython3",
   "version": "3.12.1"
  }
 },
 "nbformat": 4,
 "nbformat_minor": 5
}
